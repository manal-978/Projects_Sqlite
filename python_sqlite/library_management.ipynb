{
 "cells": [
  {
   "cell_type": "markdown",
   "metadata": {},
   "source": [
    "# Let's try to use python with sqlite"
   ]
  },
  {
   "cell_type": "code",
   "execution_count": 1,
   "metadata": {},
   "outputs": [],
   "source": [
    "import sqlite3"
   ]
  },
  {
   "cell_type": "code",
   "execution_count": 2,
   "metadata": {},
   "outputs": [],
   "source": [
    "# Connect to the SQLite database (or create it if it doesn't exist)\n",
    "conn = sqlite3.connect('library.db')\n",
    "cursor = conn.cursor()"
   ]
  },
  {
   "cell_type": "code",
   "execution_count": 3,
   "metadata": {},
   "outputs": [],
   "source": [
    "# Create tables for authors, genres, and books\n",
    "\n",
    "cursor.execute('''\n",
    "    CREATE TABLE IF NOT EXISTS authors (\n",
    "        id INTEGER PRIMARY KEY AUTOINCREMENT,\n",
    "        name TEXT NOT NULL,\n",
    "        birth_year INTEGER\n",
    "    )\n",
    "''')\n",
    "\n",
    "cursor.execute('''\n",
    "    CREATE TABLE IF NOT EXISTS genres (\n",
    "        id INTEGER PRIMARY KEY AUTOINCREMENT,\n",
    "        genre_name TEXT NOT NULL\n",
    "    )\n",
    "''')\n",
    "\n",
    "cursor.execute('''\n",
    "    CREATE TABLE IF NOT EXISTS books (\n",
    "        id INTEGER PRIMARY KEY AUTOINCREMENT,\n",
    "        title TEXT NOT NULL,\n",
    "        author_id INTEGER,\n",
    "        genre_id INTEGER,\n",
    "        publication_year INTEGER,\n",
    "        pages INTEGER,\n",
    "        FOREIGN KEY (author_id) REFERENCES authors(id),\n",
    "        FOREIGN KEY (genre_id) REFERENCES genres(id)\n",
    "    )\n",
    "''')\n",
    "\n",
    "# Commit the changes\n",
    "conn.commit()"
   ]
  },
  {
   "cell_type": "code",
   "execution_count": 4,
   "metadata": {},
   "outputs": [],
   "source": [
    "# Function to insert a new author\n",
    "def add_author(name, birth_year):\n",
    "    cursor.execute('''\n",
    "        INSERT INTO authors (name, birth_year)\n",
    "        VALUES (?, ?)\n",
    "    ''', (name, birth_year))\n",
    "    conn.commit()\n",
    "\n",
    "# Function to insert a new genre\n",
    "def add_genre(genre_name):\n",
    "    cursor.execute('''\n",
    "        INSERT INTO genres (genre_name)\n",
    "        VALUES (?)\n",
    "    ''', (genre_name,))\n",
    "    conn.commit()\n",
    "\n",
    "# Function to insert a new book\n",
    "def add_book(title, author_id, genre_id, publication_year, pages):\n",
    "    cursor.execute('''\n",
    "        INSERT INTO books (title, author_id, genre_id, publication_year, pages)\n",
    "        VALUES (?, ?, ?, ?, ?)\n",
    "    ''', (title, author_id, genre_id, publication_year, pages))\n",
    "    conn.commit()"
   ]
  },
  {
   "cell_type": "code",
   "execution_count": 5,
   "metadata": {},
   "outputs": [],
   "source": [
    "# Add authors\n",
    "add_author('J.K. Rowling', 1965)\n",
    "add_author('George Orwell', 1903)\n",
    "\n",
    "# Add genres\n",
    "add_genre('Fantasy')\n",
    "add_genre('Dystopian')\n",
    "\n",
    "# Get the author and genre IDs\n",
    "cursor.execute('SELECT id FROM authors WHERE name=\"J.K. Rowling\"')\n",
    "author_id = cursor.fetchone()[0]\n",
    "\n",
    "cursor.execute('SELECT id FROM genres WHERE genre_name=\"Fantasy\"')\n",
    "genre_id = cursor.fetchone()[0]\n",
    "\n",
    "# Add books\n",
    "add_book('Harry Potter and the Sorcerer\\'s Stone', author_id, genre_id, 1997, 309)\n",
    "\n",
    "cursor.execute('SELECT id FROM authors WHERE name=\"George Orwell\"')\n",
    "author_id = cursor.fetchone()[0]\n",
    "\n",
    "cursor.execute('SELECT id FROM genres WHERE genre_name=\"Dystopian\"')\n",
    "genre_id = cursor.fetchone()[0]\n",
    "\n",
    "add_book('1984', author_id, genre_id, 1949, 328)\n",
    "\n",
    "# Commit changes\n",
    "conn.commit()"
   ]
  },
  {
   "cell_type": "code",
   "execution_count": 6,
   "metadata": {},
   "outputs": [
    {
     "name": "stdout",
     "output_type": "stream",
     "text": [
      "Title: Harry Potter and the Sorcerer's Stone, Author: J.K. Rowling, Genre: Fantasy, Year: 1997\n",
      "Title: 1984, Author: George Orwell, Genre: Dystopian, Year: 1949\n",
      "Title: Harry Potter and the Sorcerer's Stone, Author: J.K. Rowling, Genre: Fantasy, Year: 1997\n",
      "Title: Harry Potter and the Sorcerer's Stone, Author: J.K. Rowling, Genre: Fantasy, Year: 1997\n",
      "Title: 1984, Author: George Orwell, Genre: Dystopian, Year: 1949\n"
     ]
    }
   ],
   "source": [
    "# Query all books and their authors\n",
    "def get_books():\n",
    "    cursor.execute('''\n",
    "        SELECT books.title, authors.name, genres.genre_name, books.publication_year\n",
    "        FROM books\n",
    "        JOIN authors ON books.author_id = authors.id\n",
    "        JOIN genres ON books.genre_id = genres.id\n",
    "    ''')\n",
    "    return cursor.fetchall()\n",
    "\n",
    "# Example: Get all books\n",
    "books = get_books()\n",
    "for book in books:\n",
    "    print(f'Title: {book[0]}, Author: {book[1]}, Genre: {book[2]}, Year: {book[3]}')\n",
    "\n",
    "# Query books by a specific genre\n",
    "def get_books_by_genre(genre_name):\n",
    "    cursor.execute('''\n",
    "        SELECT books.title, authors.name, genres.genre_name, books.publication_year\n",
    "        FROM books\n",
    "        JOIN authors ON books.author_id = authors.id\n",
    "        JOIN genres ON books.genre_id = genres.id\n",
    "        WHERE genres.genre_name = ?\n",
    "    ''', (genre_name,))\n",
    "    return cursor.fetchall()\n",
    "\n",
    "# Example: Get books in the \"Fantasy\" genre\n",
    "fantasy_books = get_books_by_genre('Fantasy')\n",
    "for book in fantasy_books:\n",
    "    print(f'Title: {book[0]}, Author: {book[1]}, Genre: {book[2]}, Year: {book[3]}')\n",
    "\n",
    "# Query books by publication year\n",
    "def get_books_by_year(start_year, end_year):\n",
    "    cursor.execute('''\n",
    "        SELECT books.title, authors.name, genres.genre_name, books.publication_year\n",
    "        FROM books\n",
    "        JOIN authors ON books.author_id = authors.id\n",
    "        JOIN genres ON books.genre_id = genres.id\n",
    "        WHERE books.publication_year BETWEEN ? AND ?\n",
    "    ''', (start_year, end_year))\n",
    "    return cursor.fetchall()\n",
    "\n",
    "# Example: Get books published between 1900 and 2000\n",
    "books_1900_2000 = get_books_by_year(1900, 2000)\n",
    "for book in books_1900_2000:\n",
    "    print(f'Title: {book[0]}, Author: {book[1]}, Genre: {book[2]}, Year: {book[3]}')"
   ]
  },
  {
   "cell_type": "code",
   "execution_count": 7,
   "metadata": {},
   "outputs": [],
   "source": [
    "conn.close()"
   ]
  }
 ],
 "metadata": {
  "kernelspec": {
   "display_name": "Python 3",
   "language": "python",
   "name": "python3"
  },
  "language_info": {
   "codemirror_mode": {
    "name": "ipython",
    "version": 3
   },
   "file_extension": ".py",
   "mimetype": "text/x-python",
   "name": "python",
   "nbconvert_exporter": "python",
   "pygments_lexer": "ipython3",
   "version": "3.11.5"
  }
 },
 "nbformat": 4,
 "nbformat_minor": 2
}
